{
  "nbformat": 4,
  "nbformat_minor": 0,
  "metadata": {
    "kernelspec": {
      "name": "python3",
      "display_name": "Python 3"
    },
    "colab": {
      "name": "Challenge.ipynb",
      "provenance": []
    },
    "accelerator": "GPU",
    "language_info": {
      "name": "python"
    }
  },
  "cells": [
    {
      "cell_type": "markdown",
      "metadata": {
        "id": "DFOs9pgDyRZs"
      },
      "source": [
        "# COVID Classification Challenge\n",
        "\n",
        "In this challenge you will train a classifier to distinguish chest x-ray images of patients with no lung conditions, those with pneumonia, and those with COVID-19. Your network is expected to accept patches of images with shape (1,320,320) and predict a classification for each: 0 for normal, 1 for pneumonia, and 2 for COVID.\n",
        "\n",
        "The training set in `training_data.zip` contains a few normal and pneumonia patients but is primarily COVID cases. Included is a pre-trained network which can distinguish between normal and pneumonia patients only, this can be used however you like to train your own classifier or not used at all, however it's training set of normal/pneumonia images is much larger than what you are provided.\n",
        "\n",
        "The testing data in `test_data.zip` is a mix of all three categories with which your classifier will be assessed. The criteria for this challenge is overall accuracy of your predictions for this set, runtime performance, and consideration for implementation. \n",
        "\n",
        "This notebook has some starter code for loading the data and the pre-trained network, as well as the routine to run to generate your prediction on the test set."
      ]
    },
    {
      "cell_type": "code",
      "metadata": {
        "colab": {
          "base_uri": "https://localhost:8080/"
        },
        "id": "mYGQh15nyRZw",
        "outputId": "97ca916a-4c68-4efc-b691-0e4fe37f7c8c"
      },
      "source": [
        "!pip install monai\n",
        "%matplotlib inline\n",
        "import torch\n",
        "import torch.nn as nn\n",
        "import numpy as np\n",
        "import matplotlib.pyplot as plt\n",
        "import glob\n",
        "import timeit\n",
        "import datetime\n",
        "import getpass\n",
        "\n",
        "import monai\n",
        "from monai.data import PILReader, Dataset, DataLoader\n",
        "from monai.networks.nets import Classifier, DenseNet121\n",
        "from monai.transforms import (\n",
        "    LoadImage,\n",
        "    Lambda,\n",
        "    AddChannel,\n",
        "    Resize,\n",
        "    Compose,\n",
        "    ToTensor,\n",
        ")\n"
      ],
      "execution_count": 1,
      "outputs": [
        {
          "output_type": "stream",
          "name": "stdout",
          "text": [
            "Collecting monai\n",
            "  Downloading monai-0.6.0-202107081903-py3-none-any.whl (584 kB)\n",
            "\u001b[K     |████████████████████████████████| 584 kB 4.2 MB/s \n",
            "\u001b[?25hRequirement already satisfied: numpy>=1.17 in /usr/local/lib/python3.7/dist-packages (from monai) (1.19.5)\n",
            "Requirement already satisfied: torch>=1.5 in /usr/local/lib/python3.7/dist-packages (from monai) (1.9.0+cu102)\n",
            "Requirement already satisfied: typing-extensions in /usr/local/lib/python3.7/dist-packages (from torch>=1.5->monai) (3.7.4.3)\n",
            "Installing collected packages: monai\n",
            "Successfully installed monai-0.6.0\n"
          ]
        }
      ]
    },
    {
      "cell_type": "code",
      "metadata": {
        "colab": {
          "base_uri": "https://localhost:8080/"
        },
        "id": "MO0bTSJcGG8G",
        "outputId": "5e800d38-6481-49e6-da23-488e1eb13f0c"
      },
      "source": [
        "def get_label(filename):\n",
        "            \"\"\"Choose a label for the given image based on its file name.\"\"\"\n",
        "            if \"normal_\" in filename:\n",
        "                return 0\n",
        "\n",
        "            if \"pneumonia_\" in filename:\n",
        "                return 1\n",
        "\n",
        "            if \"covid_\" in filename:\n",
        "                return 2\n",
        "\n",
        "            return -1\n",
        "            \n",
        "image_files = sorted(glob.glob(\"/content/training_data/training_data/*.png\"))\n",
        "labels = list(map(get_label, image_files))\n",
        "normal_count = labels.count(0)\n",
        "pneumonia_count = labels.count(1)\n",
        "covid_count = labels.count(2)\n",
        "\n",
        "normal_count, pneumonia_count, covid_count"
      ],
      "execution_count": 3,
      "outputs": [
        {
          "output_type": "execute_result",
          "data": {
            "text/plain": [
              "(150, 150, 949)"
            ]
          },
          "metadata": {},
          "execution_count": 3
        }
      ]
    },
    {
      "cell_type": "markdown",
      "metadata": {
        "id": "fhoqD2fDyRZ0"
      },
      "source": [
        "### Data Loading\n",
        "\n",
        "There are too many covid images so, in order to make it more balanced, we are going to modify the `CovidImageDataset` class"
      ]
    },
    {
      "cell_type": "code",
      "metadata": {
        "id": "cUQNUR0vyRZ0"
      },
      "source": [
        "crop_size = (320, 320)  # size of images expected by the pre-trained network\n",
        "\n",
        "class CovidImageDataset(Dataset):\n",
        "    \"\"\"\n",
        "    Construct a dataset of x-ray images, selecting the label based on file name. \n",
        "    If the file name isn't given a category (ie. test images), it's label will be -1.\n",
        "    Feel free to change this class to speed things up but don't change it's behaviour.\n",
        "    \"\"\"\n",
        "\n",
        "    def __init__(self, image_dir, transform):\n",
        "        image_files = sorted(glob.glob(image_dir + \"/*.png\"))\n",
        "\n",
        "        super().__init__(data=image_files, transform=transform)\n",
        "\n",
        "        self.labels = list(map(get_label, image_files))\n",
        "\n",
        "    def __getitem__(self, index):\n",
        "        return super().__getitem__(index), self.labels[index]\n",
        "\n",
        "class TrainCovidImageDataset(Dataset):\n",
        "\n",
        "    def __init__(self, image_dir, transform):\n",
        "        image_files = sorted(glob.glob(image_dir + \"/*.png\"))\n",
        "        self.transform = transform\n",
        "\n",
        "        self.normalImage_list = [nm for nm in image_files if \"normal_\" in nm]\n",
        "        self.pneumoniaImage_list = [pn for pn in image_files if \"pneumonia_\" in pn]\n",
        "        self.covidImage_list = [cv for cv in image_files if \"covid_\" in cv]\n",
        "    \n",
        "    # There are many more photos of covid than normal and pneumonia, \n",
        "    # so we modify it to return the same amount of every image.\n",
        "    def __getitem__(self, index):\n",
        "        if index % 3 == 0:\n",
        "          return self.transform(self.normalImage_list[index % len(self.normalImage_list)]), 0\n",
        "        if index % 3 == 1:\n",
        "          return self.transform(self.pneumoniaImage_list[index % len(self.pneumoniaImage_list)]), 1\n",
        "        if index % 3 == 2:\n",
        "          return self.transform(self.covidImage_list[index % len(self.covidImage_list)]), 2\n",
        "      \n",
        "    def __len__(self):\n",
        "        return 2847\n",
        "\n",
        "train_transforms = Compose(\n",
        "    [\n",
        "        LoadImage(image_only=True, reader=PILReader()),  # Load each image\n",
        "        Lambda(lambda im: im if im.ndim==2 else im[...,0]),  # many images are grayscale so select red channel\n",
        "        AddChannel(),  # add a 1-size channel dimension\n",
        "        Resize(crop_size, \"area\"),  # resize (crop or pad with 0) to the given size\n",
        "        ToTensor(),\n",
        "    ]\n",
        ")\n"
      ],
      "execution_count": 8,
      "outputs": []
    },
    {
      "cell_type": "code",
      "metadata": {
        "colab": {
          "base_uri": "https://localhost:8080/",
          "height": 264
        },
        "id": "0Nqxs9Kuc2S7",
        "outputId": "ea8999fa-efc9-4eb4-8dec-e71c0c8d2c83"
      },
      "source": [
        "import matplotlib.pyplot as plt\n",
        "import numpy as np\n",
        "\n",
        "def getName(label):\n",
        "  if label == 0:\n",
        "    return 'Normal'\n",
        "  if label == 1:\n",
        "    return 'Pneumonia'\n",
        "  if label == 2:\n",
        "    return 'Covid'\n",
        "    \n",
        "train_ds = TrainCovidImageDataset(\"/content/training_data/training_data\", train_transforms)\n",
        "\n",
        "fig =plt.figure()\n",
        "cols = 3\n",
        "rows = 3\n",
        "\n",
        "for i in range(1, cols*rows+1):\n",
        "  im, label = train_ds[i-1]\n",
        "  fig.add_subplot(rows, cols, i)\n",
        "  plt.axis('off')\n",
        "  plt.title(getName(label))\n",
        "  plt.imshow(im[0])"
      ],
      "execution_count": 25,
      "outputs": [
        {
          "output_type": "display_data",
          "data": {
            "image/png": "[encoded data removed]",
            "text/plain": [
              "<Figure size 432x288 with 9 Axes>"
            ]
          },
          "metadata": {
            "needs_background": "light"
          }
        }
      ]
    },
    {
      "cell_type": "markdown",
      "metadata": {
        "id": "9DiWYtpeyRZz"
      },
      "source": [
        "### Network\n",
        "\n",
        "In the next cell we create an instance of `DenseNet`"
      ]
    },
    {
      "cell_type": "code",
      "metadata": {
        "id": "fPtDxd_H1ob4"
      },
      "source": [
        "net = DenseNet121(\n",
        "    spatial_dims=2,\n",
        "    in_channels=1,\n",
        "    out_channels=3\n",
        ")"
      ],
      "execution_count": 16,
      "outputs": []
    },
    {
      "cell_type": "code",
      "metadata": {
        "id": "HJ1jKGEf1psm"
      },
      "source": [
        "train_dl = DataLoader(train_ds, batch_size=32, shuffle=True, num_workers=2)\n",
        "device = torch.device(\"cuda\" if torch.cuda.is_available() else \"cpu\")\n",
        "loss_function = torch.nn.CrossEntropyLoss()\n",
        "optimizer = torch.optim.Adam(net.parameters(), 1e-5)\n",
        "max_epochs = 10"
      ],
      "execution_count": 26,
      "outputs": []
    },
    {
      "cell_type": "code",
      "metadata": {
        "colab": {
          "base_uri": "https://localhost:8080/"
        },
        "id": "wq2Pe1X-8KRq",
        "outputId": "ad8f04bd-6aa5-43da-a0bb-14223a22f667"
      },
      "source": [
        "import datetime\n",
        "\n",
        "epoch_loss_values = []\n",
        "net.to(device)\n",
        "\n",
        "for epoch in range(max_epochs):\n",
        "  print(f'epoch {epoch}/{max_epochs}')\n",
        "  net.train()\n",
        "  epoch_loss = 0\n",
        "  step = 0\n",
        "\n",
        "  for ndx, batch_data in enumerate(train_dl):\n",
        "    step += 1\n",
        "    inputs, labels = batch_data[0].to(device), batch_data[1].to(device)\n",
        "    optimizer.zero_grad()\n",
        "    outputs = net(inputs)\n",
        "    loss = loss_function(outputs, labels)\n",
        "    loss.backward()\n",
        "    optimizer.step()\n",
        "    epoch_loss += loss.item()\n",
        "    \n",
        "    if ndx % 8 == 0:\n",
        "      print(f\"{step}/{len(train_ds) // train_dl.batch_size}, \"\n",
        "          f\"train_loss: {loss.item():.4f}\")\n",
        "  epoch_loss /= step\n",
        "  epoch_loss_values.append(epoch_loss)\n",
        "  print(f\"epoch {epoch + 1} average loss: {epoch_loss:.4f}, {datetime.datetime.now()}\")"
      ],
      "execution_count": 18,
      "outputs": [
        {
          "output_type": "stream",
          "name": "stdout",
          "text": [
            "epoch 0/10\n"
          ]
        },
        {
          "output_type": "stream",
          "name": "stderr",
          "text": [
            "/usr/local/lib/python3.7/dist-packages/torch/utils/data/dataloader.py:481: UserWarning: This DataLoader will create 10 worker processes in total. Our suggested max number of worker in current system is 2, which is smaller than what this DataLoader is going to create. Please be aware that excessive worker creation might get DataLoader running slow or even freeze, lower the worker number to avoid potential slowness/freeze if necessary.\n",
            "  cpuset_checked))\n"
          ]
        },
        {
          "output_type": "stream",
          "name": "stdout",
          "text": [
            "1/88, train_loss: 1.0836\n",
            "9/88, train_loss: 1.0321\n",
            "17/88, train_loss: 0.9724\n",
            "25/88, train_loss: 0.9995\n",
            "33/88, train_loss: 0.9867\n",
            "41/88, train_loss: 1.0204\n",
            "49/88, train_loss: 0.9781\n",
            "57/88, train_loss: 0.9800\n",
            "65/88, train_loss: 0.8658\n",
            "73/88, train_loss: 0.8445\n",
            "81/88, train_loss: 0.8353\n",
            "89/88, train_loss: 0.8054\n",
            "epoch 1 average loss: 0.9279, 2021-09-09 13:59:08.752026\n",
            "epoch 1/10\n",
            "1/88, train_loss: 0.8171\n",
            "9/88, train_loss: 0.8045\n",
            "17/88, train_loss: 0.7759\n",
            "25/88, train_loss: 0.6341\n",
            "33/88, train_loss: 0.6112\n",
            "41/88, train_loss: 0.7637\n",
            "49/88, train_loss: 0.6389\n",
            "57/88, train_loss: 0.6391\n",
            "65/88, train_loss: 0.5585\n",
            "73/88, train_loss: 0.5673\n",
            "81/88, train_loss: 0.5561\n",
            "89/88, train_loss: 0.5996\n",
            "epoch 2 average loss: 0.6877, 2021-09-09 14:01:13.015102\n",
            "epoch 2/10\n",
            "1/88, train_loss: 0.5299\n",
            "9/88, train_loss: 0.6973\n",
            "17/88, train_loss: 0.5270\n",
            "25/88, train_loss: 0.4696\n",
            "33/88, train_loss: 0.4545\n",
            "41/88, train_loss: 0.4462\n",
            "49/88, train_loss: 0.5496\n",
            "57/88, train_loss: 0.3718\n",
            "65/88, train_loss: 0.4956\n",
            "73/88, train_loss: 0.3827\n",
            "81/88, train_loss: 0.5480\n",
            "89/88, train_loss: 0.4085\n",
            "epoch 3 average loss: 0.4926, 2021-09-09 14:03:17.993714\n",
            "epoch 3/10\n",
            "1/88, train_loss: 0.4695\n",
            "9/88, train_loss: 0.4280\n",
            "17/88, train_loss: 0.3423\n",
            "25/88, train_loss: 0.4817\n",
            "33/88, train_loss: 0.3035\n",
            "41/88, train_loss: 0.3107\n",
            "49/88, train_loss: 0.4077\n",
            "57/88, train_loss: 0.3546\n",
            "65/88, train_loss: 0.2657\n",
            "73/88, train_loss: 0.4200\n",
            "81/88, train_loss: 0.2302\n",
            "89/88, train_loss: 0.1893\n",
            "epoch 4 average loss: 0.3245, 2021-09-09 14:05:22.409904\n",
            "epoch 4/10\n",
            "1/88, train_loss: 0.2069\n",
            "9/88, train_loss: 0.1827\n",
            "17/88, train_loss: 0.1934\n",
            "25/88, train_loss: 0.2252\n",
            "33/88, train_loss: 0.1721\n",
            "41/88, train_loss: 0.3013\n",
            "49/88, train_loss: 0.1365\n",
            "57/88, train_loss: 0.1008\n",
            "65/88, train_loss: 0.2711\n",
            "73/88, train_loss: 0.1927\n",
            "81/88, train_loss: 0.2060\n",
            "89/88, train_loss: 0.1792\n",
            "epoch 5 average loss: 0.2052, 2021-09-09 14:07:26.928649\n",
            "epoch 5/10\n",
            "1/88, train_loss: 0.1481\n",
            "9/88, train_loss: 0.1442\n",
            "17/88, train_loss: 0.1586\n",
            "25/88, train_loss: 0.1505\n",
            "33/88, train_loss: 0.1686\n",
            "41/88, train_loss: 0.1194\n",
            "49/88, train_loss: 0.1389\n",
            "57/88, train_loss: 0.1039\n",
            "65/88, train_loss: 0.1075\n",
            "73/88, train_loss: 0.1116\n",
            "81/88, train_loss: 0.1401\n",
            "89/88, train_loss: 0.1022\n",
            "epoch 6 average loss: 0.1341, 2021-09-09 14:09:32.574431\n",
            "epoch 6/10\n",
            "1/88, train_loss: 0.1133\n",
            "9/88, train_loss: 0.1381\n",
            "17/88, train_loss: 0.0763\n",
            "25/88, train_loss: 0.1743\n",
            "33/88, train_loss: 0.0844\n",
            "41/88, train_loss: 0.0724\n",
            "49/88, train_loss: 0.0561\n",
            "57/88, train_loss: 0.0500\n",
            "65/88, train_loss: 0.0635\n",
            "73/88, train_loss: 0.1003\n",
            "81/88, train_loss: 0.0397\n",
            "89/88, train_loss: 0.0657\n",
            "epoch 7 average loss: 0.0879, 2021-09-09 14:11:37.182977\n",
            "epoch 7/10\n",
            "1/88, train_loss: 0.0578\n",
            "9/88, train_loss: 0.0399\n",
            "17/88, train_loss: 0.0532\n",
            "25/88, train_loss: 0.0334\n",
            "33/88, train_loss: 0.0561\n",
            "41/88, train_loss: 0.0348\n",
            "49/88, train_loss: 0.0347\n",
            "57/88, train_loss: 0.0462\n",
            "65/88, train_loss: 0.0338\n",
            "73/88, train_loss: 0.0787\n",
            "81/88, train_loss: 0.0455\n",
            "89/88, train_loss: 0.1567\n",
            "epoch 8 average loss: 0.0593, 2021-09-09 14:13:41.678805\n",
            "epoch 8/10\n",
            "1/88, train_loss: 0.0388\n",
            "9/88, train_loss: 0.0336\n",
            "17/88, train_loss: 0.0661\n",
            "25/88, train_loss: 0.0355\n",
            "33/88, train_loss: 0.0383\n",
            "41/88, train_loss: 0.0410\n",
            "49/88, train_loss: 0.0560\n",
            "57/88, train_loss: 0.0230\n",
            "65/88, train_loss: 0.0607\n",
            "73/88, train_loss: 0.0278\n",
            "81/88, train_loss: 0.0395\n",
            "89/88, train_loss: 0.0339\n",
            "epoch 9 average loss: 0.0403, 2021-09-09 14:15:46.730864\n",
            "epoch 9/10\n",
            "1/88, train_loss: 0.0494\n",
            "9/88, train_loss: 0.0240\n",
            "17/88, train_loss: 0.0198\n",
            "25/88, train_loss: 0.0266\n",
            "33/88, train_loss: 0.0162\n",
            "41/88, train_loss: 0.0429\n",
            "49/88, train_loss: 0.0175\n",
            "57/88, train_loss: 0.0195\n",
            "65/88, train_loss: 0.0223\n",
            "73/88, train_loss: 0.0223\n",
            "81/88, train_loss: 0.0634\n",
            "89/88, train_loss: 0.0190\n",
            "epoch 10 average loss: 0.0306, 2021-09-09 14:17:52.544266\n"
          ]
        }
      ]
    },
    {
      "cell_type": "markdown",
      "metadata": {
        "id": "3SztW8eTyRZ1"
      },
      "source": [
        "### Test Routine\n",
        "\n",
        "This routine will apply the test images to the given network (or any other callable accepting batches of images and returning a label tensor) and save the predictions with total runtime value to an output file. This should run once your network is done training to generate the submission file you will hand in as your results. This will contain the predictions and the average runtime your network took to predict for a batch of 100. \n",
        "\n",
        "**Please don't modify any of the code in this routine!**"
      ]
    },
    {
      "cell_type": "code",
      "metadata": {
        "colab": {
          "base_uri": "https://localhost:8080/"
        },
        "id": "htQi7Q9eyRZ2",
        "outputId": "a3aa4751-5c4a-4af0-afeb-46b505fb47ac"
      },
      "source": [
        "def predict(net, test_data_dir=\"/content/test_data/test_data\", device=0, timeit_count=10, notebook_file=\"challenge.ipynb\"):\n",
        "    \"\"\"\n",
        "    Predict the classification for images in the test set using the calleable `net`. The test\n",
        "    data is expected to be found in `test_data_dir`. Batches will be moved to device `device`.\n",
        "    The prediction will be run `timeit_count` number of times over the dataset to get an \n",
        "    average runtime value.\n",
        "    \"\"\"\n",
        "    def choose_channel(img):\n",
        "        return img[...,0] if img.ndim==3 else img\n",
        "\n",
        "    test_transforms = Compose(\n",
        "        [\n",
        "            LoadImage(image_only=True, reader=PILReader()),\n",
        "            Lambda(lambda im: im if im.ndim==2 else im[...,0]),\n",
        "            AddChannel(),\n",
        "            Resize(crop_size, \"area\"),\n",
        "            ToTensor(),\n",
        "        ]\n",
        "    )\n",
        "\n",
        "    test_ds = CovidImageDataset(test_data_dir, test_transforms)\n",
        "    test_loader = DataLoader(test_ds, batch_size=100, num_workers=10)\n",
        "\n",
        "    predictions = []\n",
        "\n",
        "    # apply the network to predict a label for each image\n",
        "    with torch.no_grad():\n",
        "        for batch, _ in test_loader:\n",
        "            pred = net(batch.to(device))\n",
        "            pred = pred.argmax(1)\n",
        "            predictions.append(pred)\n",
        "\n",
        "    # do prediction again on a single batch using timeit to get an average network runtime\n",
        "    test_batch, _ = monai.utils.first(test_loader)\n",
        "    test_batch = test_batch.to(device)\n",
        "\n",
        "    with torch.no_grad():\n",
        "        time = timeit.timeit(lambda: net(test_batch), number=timeit_count)\n",
        "\n",
        "    predictions = torch.cat(predictions)\n",
        "    time /= timeit_count\n",
        "\n",
        "    pred_filename_pattern = f\"predictions_{getpass.getuser()}_%Y%m%d%H%M%S.npz\"\n",
        "    pred_filename = datetime.datetime.now().strftime(pred_filename_pattern)\n",
        "    \n",
        "    try:\n",
        "        with open(notebook_file) as o:\n",
        "            notebook = o.read()\n",
        "    except IOError:\n",
        "        notebook = \"Not found\"\n",
        "\n",
        "    np.savez_compressed(pred_filename, predictions=predictions.cpu().numpy(), time=time, notebook=notebook)\n",
        "\n",
        "    return pred_filename, time, predictions\n",
        "\n",
        "pred_filename, time, preds = predict(net.to(0).eval())"
      ],
      "execution_count": 19,
      "outputs": [
        {
          "output_type": "stream",
          "name": "stderr",
          "text": [
            "/usr/local/lib/python3.7/dist-packages/torch/utils/data/dataloader.py:481: UserWarning: This DataLoader will create 10 worker processes in total. Our suggested max number of worker in current system is 2, which is smaller than what this DataLoader is going to create. Please be aware that excessive worker creation might get DataLoader running slow or even freeze, lower the worker number to avoid potential slowness/freeze if necessary.\n",
            "  cpuset_checked))\n"
          ]
        }
      ]
    },
    {
      "cell_type": "code",
      "metadata": {
        "id": "ZToueNI73fT8"
      },
      "source": [
        "# We get the correct results from the .txt \n",
        "arr = []\n",
        "results = []\n",
        "with open(\"test_ground_truth.txt\",'r') as f:\n",
        "  arr = f.readlines()\n",
        "\n",
        "for num in arr:\n",
        "  num = int(num[0])\n",
        "  results.append(num)\n"
      ],
      "execution_count": 20,
      "outputs": []
    },
    {
      "cell_type": "code",
      "metadata": {
        "colab": {
          "base_uri": "https://localhost:8080/"
        },
        "id": "eZ9K_Hlp4o1Y",
        "outputId": "d10f7e62-3343-4908-a3be-44b653b472d7"
      },
      "source": [
        "correct_covid = 0\n",
        "total_covid = 0\n",
        "correct_pneumonia = 0\n",
        "total_pneumonia = 0\n",
        "correct_normal = 0\n",
        "total_normal = 0\n",
        "\n",
        "# 0 normal, 1 pneumonia, 2 covid\n",
        "\n",
        "for ndx, num in enumerate(preds):\n",
        "  if ndx >= 705:\n",
        "    break\n",
        "  if results[ndx] == 0:\n",
        "    total_normal += 1\n",
        "    if num == results[ndx]:\n",
        "      correct_normal += 1\n",
        "  if results[ndx] == 1:\n",
        "    total_pneumonia += 1\n",
        "    if num == results[ndx]:\n",
        "      correct_pneumonia += 1\n",
        "  if results[ndx] == 2:\n",
        "    total_covid += 1\n",
        "    if num == results[ndx]:\n",
        "      correct_covid += 1\n",
        "\n",
        "total_correct = correct_normal + correct_pneumonia + correct_covid\n",
        "total = total_normal + total_pneumonia + total_covid\n",
        "  \n",
        "\n",
        "print(f\"Correct normal: {correct_normal}/{total_normal}, {correct_normal/total_normal}\")\n",
        "print(f\"Correct pneumonia: {correct_pneumonia}/{total_pneumonia}, {correct_pneumonia/total_pneumonia}\")\n",
        "print(f\"Correct covid: {correct_covid}/{total_covid}, {correct_covid/total_covid}\")\n",
        "print(f\"Total: {total_correct}/{total}, {total_correct/total}\")\n"
      ],
      "execution_count": 23,
      "outputs": [
        {
          "output_type": "stream",
          "name": "stdout",
          "text": [
            "Correct normal: 159/235, 0.676595744680851\n",
            "Correct pneumonia: 216/235, 0.9191489361702128\n",
            "Correct covid: 232/235, 0.9872340425531915\n",
            "Total: 607/705, 0.8609929078014185\n"
          ]
        }
      ]
    }
  ]
}